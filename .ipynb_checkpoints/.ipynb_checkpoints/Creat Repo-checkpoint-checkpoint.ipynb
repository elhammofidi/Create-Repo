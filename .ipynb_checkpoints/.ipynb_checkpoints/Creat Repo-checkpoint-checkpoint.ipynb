{
 "cells": [
  {
   "cell_type": "markdown",
   "id": "b2854994-534e-411c-a6dd-fb4ceac12100",
   "metadata": {},
   "source": [
    "# Creat a local Repository"
   ]
  },
  {
   "cell_type": "markdown",
   "id": "1daa0cca-fa2a-475a-b5ed-9e312f920527",
   "metadata": {},
   "source": [
    "### Why creat a new git repository?\n",
    "### How to creat a git repository?"
   ]
  },
  {
   "cell_type": "markdown",
   "id": "1ad95a5f-9839-41f9-a38a-1acc503967fc",
   "metadata": {},
   "source": [
    "1. Why creat a new git repo?\n",
    " - Track changes to file and folder.\n",
    " - Mainttain an extended history of commit.\n",
    " - Perform isolated development in local branches.\n",
    " - Share code with any other network users."
   ]
  },
  {
   "cell_type": "markdown",
   "id": "b17681f6-a0eb-4aa1-85fb-e253ef2d9c40",
   "metadata": {},
   "source": [
    "2. How to create a new Git repository?"
   ]
  },
  {
   "cell_type": "markdown",
   "id": "8a31423a-f031-4335-bc8c-897bddb52921",
   "metadata": {},
   "source": [
    " - [x] Follow these steps:"
   ]
  },
  {
   "cell_type": "markdown",
   "id": "1f3e6094-be07-424a-9a21-508a1a05828c",
   "metadata": {},
   "source": [
    " - Create a new folder for your project.\n",
    " - Open the folder in Git BASH.\n",
    " -  Write in git bash: \n",
    "    1. **git init**\n",
    "     ```\n",
    "       create the new Git repo.\n",
    "       Note the creation of the hidden .git folder in the project.\n",
    "     ```\n",
    "    2. **git add -A**\n",
    "    ```\n",
    "      Add files and folders to your project.\n",
    "    ``` \n",
    "    3. **git commit -m** 'Write a masage for your commit'\n",
    "     ```\n",
    "       create commits.\n",
    "     ```  "
   ]
  },
  {
   "cell_type": "markdown",
   "id": "87556808-bb2c-4a11-9c02-1f303db9d1bc",
   "metadata": {},
   "source": []
  }
 ],
 "metadata": {
  "kernelspec": {
   "display_name": "Python 3 (ipykernel)",
   "language": "python",
   "name": "python3"
  },
  "language_info": {
   "codemirror_mode": {
    "name": "ipython",
    "version": 3
   },
   "file_extension": ".py",
   "mimetype": "text/x-python",
   "name": "python",
   "nbconvert_exporter": "python",
   "pygments_lexer": "ipython3",
   "version": "3.11.6"
  }
 },
 "nbformat": 4,
 "nbformat_minor": 5
}
